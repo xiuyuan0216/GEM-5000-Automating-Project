{
 "cells": [
  {
   "cell_type": "code",
   "execution_count": 1,
   "id": "c0d4dc0a",
   "metadata": {},
   "outputs": [],
   "source": [
    "import pandas as pd \n",
    "import numpy as np \n",
    "import matplotlib.pyplot as plt \n",
    "import seaborn as sns "
   ]
  },
  {
   "cell_type": "code",
   "execution_count": 2,
   "id": "da8884df",
   "metadata": {},
   "outputs": [],
   "source": [
    "event_log = pd.read_csv('\\\\\\sysdatprod1\\\\Cartridge Complaint Data\\\\GEM5000\\\\16020221\\\\000000000500207812\\\\000000000500207812_20211001_101205\\\\EVENT_LOG.csv')\n",
    "sensor_file = pd.read_csv('\\\\\\sysdatprod1\\\\Cartridge Complaint Data\\\\GEM5000\\\\16020221\\\\000000000500207812\\\\000000000500207812_20211001_101205\\\\SENSOR.csv')"
   ]
  },
  {
   "cell_type": "code",
   "execution_count": 3,
   "id": "6229031d",
   "metadata": {},
   "outputs": [
    {
     "data": {
      "text/html": [
       "<div>\n",
       "<style scoped>\n",
       "    .dataframe tbody tr th:only-of-type {\n",
       "        vertical-align: middle;\n",
       "    }\n",
       "\n",
       "    .dataframe tbody tr th {\n",
       "        vertical-align: top;\n",
       "    }\n",
       "\n",
       "    .dataframe thead th {\n",
       "        text-align: right;\n",
       "    }\n",
       "</style>\n",
       "<table border=\"1\" class=\"dataframe\">\n",
       "  <thead>\n",
       "    <tr style=\"text-align: right;\">\n",
       "      <th></th>\n",
       "      <th>Date</th>\n",
       "      <th>Time</th>\n",
       "      <th>Event Type</th>\n",
       "      <th>Code</th>\n",
       "      <th>Subcode</th>\n",
       "      <th>Message</th>\n",
       "      <th>Cartridge S/N</th>\n",
       "      <th>Severity</th>\n",
       "    </tr>\n",
       "  </thead>\n",
       "  <tbody>\n",
       "    <tr>\n",
       "      <th>0</th>\n",
       "      <td>2021/04/16</td>\n",
       "      <td>12:49:33</td>\n",
       "      <td>Event</td>\n",
       "      <td>9096</td>\n",
       "      <td>NaN</td>\n",
       "      <td>Sample Ended</td>\n",
       "      <td>500146422.0</td>\n",
       "      <td>NaN</td>\n",
       "    </tr>\n",
       "    <tr>\n",
       "      <th>1</th>\n",
       "      <td>2021/04/16</td>\n",
       "      <td>21:21:35</td>\n",
       "      <td>Error</td>\n",
       "      <td>240</td>\n",
       "      <td>73.0</td>\n",
       "      <td>Process control solution not detected.</td>\n",
       "      <td>500146422.0</td>\n",
       "      <td>8.0</td>\n",
       "    </tr>\n",
       "    <tr>\n",
       "      <th>2</th>\n",
       "      <td>2021/04/16</td>\n",
       "      <td>21:21:35</td>\n",
       "      <td>Error</td>\n",
       "      <td>240</td>\n",
       "      <td>73.0</td>\n",
       "      <td>Process control solution not detected.</td>\n",
       "      <td>500146422.0</td>\n",
       "      <td>8.0</td>\n",
       "    </tr>\n",
       "    <tr>\n",
       "      <th>3</th>\n",
       "      <td>2021/04/17</td>\n",
       "      <td>07:17:04</td>\n",
       "      <td>Alarm</td>\n",
       "      <td>15</td>\n",
       "      <td>NaN</td>\n",
       "      <td>NTP: Unable to reach NTP server.</td>\n",
       "      <td>NaN</td>\n",
       "      <td>NaN</td>\n",
       "    </tr>\n",
       "    <tr>\n",
       "      <th>4</th>\n",
       "      <td>2021/04/17</td>\n",
       "      <td>07:19:03</td>\n",
       "      <td>Event</td>\n",
       "      <td>4007</td>\n",
       "      <td>15.0</td>\n",
       "      <td>Alarm cleared: NTP: Unable to reach NTP server..</td>\n",
       "      <td>NaN</td>\n",
       "      <td>NaN</td>\n",
       "    </tr>\n",
       "  </tbody>\n",
       "</table>\n",
       "</div>"
      ],
      "text/plain": [
       "         Date      Time Event Type  Code  Subcode  \\\n",
       "0  2021/04/16  12:49:33      Event  9096      NaN   \n",
       "1  2021/04/16  21:21:35      Error   240     73.0   \n",
       "2  2021/04/16  21:21:35      Error   240     73.0   \n",
       "3  2021/04/17  07:17:04      Alarm    15      NaN   \n",
       "4  2021/04/17  07:19:03      Event  4007     15.0   \n",
       "\n",
       "                                            Message  Cartridge S/N  Severity  \n",
       "0                                      Sample Ended    500146422.0       NaN  \n",
       "1            Process control solution not detected.    500146422.0       8.0  \n",
       "2            Process control solution not detected.    500146422.0       8.0  \n",
       "3                  NTP: Unable to reach NTP server.            NaN       NaN  \n",
       "4  Alarm cleared: NTP: Unable to reach NTP server..            NaN       NaN  "
      ]
     },
     "execution_count": 3,
     "metadata": {},
     "output_type": "execute_result"
    }
   ],
   "source": [
    "event_log.head()"
   ]
  },
  {
   "cell_type": "code",
   "execution_count": 4,
   "id": "a732b437",
   "metadata": {},
   "outputs": [
    {
     "data": {
      "text/html": [
       "<div>\n",
       "<style scoped>\n",
       "    .dataframe tbody tr th:only-of-type {\n",
       "        vertical-align: middle;\n",
       "    }\n",
       "\n",
       "    .dataframe tbody tr th {\n",
       "        vertical-align: top;\n",
       "    }\n",
       "\n",
       "    .dataframe thead th {\n",
       "        text-align: right;\n",
       "    }\n",
       "</style>\n",
       "<table border=\"1\" class=\"dataframe\">\n",
       "  <thead>\n",
       "    <tr style=\"text-align: right;\">\n",
       "      <th></th>\n",
       "      <th>'10/01/21 10:12:06.896'</th>\n",
       "      <th>'CartAge'</th>\n",
       "      <th>'CalType'</th>\n",
       "      <th>'Hct'</th>\n",
       "      <th>'Na'</th>\n",
       "      <th>'K'</th>\n",
       "      <th>'Ca'</th>\n",
       "      <th>'BUN'</th>\n",
       "      <th>'Cl'</th>\n",
       "      <th>'pO2'</th>\n",
       "      <th>...</th>\n",
       "      <th>'waveEnd'</th>\n",
       "      <th>'mean A'</th>\n",
       "      <th>'mean SD'</th>\n",
       "      <th>'meanTellTale'</th>\n",
       "      <th>'maxTellTale'</th>\n",
       "      <th>'Ne585peakCPS'</th>\n",
       "      <th>'Ne585intgCPS'</th>\n",
       "      <th>'f_biliFactor'</th>\n",
       "      <th>'BiliMeas'</th>\n",
       "      <th>'BiliCalc'</th>\n",
       "    </tr>\n",
       "  </thead>\n",
       "  <tbody>\n",
       "    <tr>\n",
       "      <th>0</th>\n",
       "      <td>'10/01/21 10:12:06.898'</td>\n",
       "      <td>'Instrument'</td>\n",
       "      <td>NaN</td>\n",
       "      <td>NaN</td>\n",
       "      <td>NaN</td>\n",
       "      <td>NaN</td>\n",
       "      <td>NaN</td>\n",
       "      <td>NaN</td>\n",
       "      <td>NaN</td>\n",
       "      <td>NaN</td>\n",
       "      <td>...</td>\n",
       "      <td>NaN</td>\n",
       "      <td>NaN</td>\n",
       "      <td>NaN</td>\n",
       "      <td>NaN</td>\n",
       "      <td>NaN</td>\n",
       "      <td>NaN</td>\n",
       "      <td>NaN</td>\n",
       "      <td>NaN</td>\n",
       "      <td>NaN</td>\n",
       "      <td>NaN</td>\n",
       "    </tr>\n",
       "    <tr>\n",
       "      <th>1</th>\n",
       "      <td>'10/01/21 10:12:06.900'</td>\n",
       "      <td>'Script'</td>\n",
       "      <td>'WARMUP'</td>\n",
       "      <td>41.0000</td>\n",
       "      <td>NaN</td>\n",
       "      <td>NaN</td>\n",
       "      <td>NaN</td>\n",
       "      <td>NaN</td>\n",
       "      <td>NaN</td>\n",
       "      <td>NaN</td>\n",
       "      <td>...</td>\n",
       "      <td>NaN</td>\n",
       "      <td>NaN</td>\n",
       "      <td>NaN</td>\n",
       "      <td>NaN</td>\n",
       "      <td>NaN</td>\n",
       "      <td>NaN</td>\n",
       "      <td>NaN</td>\n",
       "      <td>NaN</td>\n",
       "      <td>NaN</td>\n",
       "      <td>NaN</td>\n",
       "    </tr>\n",
       "    <tr>\n",
       "      <th>2</th>\n",
       "      <td>'10/01/21 10:12:06.903'</td>\n",
       "      <td>'FPGA'</td>\n",
       "      <td>NaN</td>\n",
       "      <td>7.11</td>\n",
       "      <td>NaN</td>\n",
       "      <td>NaN</td>\n",
       "      <td>NaN</td>\n",
       "      <td>NaN</td>\n",
       "      <td>NaN</td>\n",
       "      <td>NaN</td>\n",
       "      <td>...</td>\n",
       "      <td>NaN</td>\n",
       "      <td>NaN</td>\n",
       "      <td>NaN</td>\n",
       "      <td>NaN</td>\n",
       "      <td>NaN</td>\n",
       "      <td>NaN</td>\n",
       "      <td>NaN</td>\n",
       "      <td>NaN</td>\n",
       "      <td>NaN</td>\n",
       "      <td>NaN</td>\n",
       "    </tr>\n",
       "    <tr>\n",
       "      <th>3</th>\n",
       "      <td>'10/01/21 10:12:06.905'</td>\n",
       "      <td>'GemScript'</td>\n",
       "      <td>NaN</td>\n",
       "      <td>0.904</td>\n",
       "      <td>NaN</td>\n",
       "      <td>NaN</td>\n",
       "      <td>NaN</td>\n",
       "      <td>NaN</td>\n",
       "      <td>NaN</td>\n",
       "      <td>NaN</td>\n",
       "      <td>...</td>\n",
       "      <td>NaN</td>\n",
       "      <td>NaN</td>\n",
       "      <td>NaN</td>\n",
       "      <td>NaN</td>\n",
       "      <td>NaN</td>\n",
       "      <td>NaN</td>\n",
       "      <td>NaN</td>\n",
       "      <td>NaN</td>\n",
       "      <td>NaN</td>\n",
       "      <td>NaN</td>\n",
       "    </tr>\n",
       "    <tr>\n",
       "      <th>4</th>\n",
       "      <td>'10/01/21 10:12:06.907'</td>\n",
       "      <td>'LotNo'</td>\n",
       "      <td>NaN</td>\n",
       "      <td>210805G</td>\n",
       "      <td>NaN</td>\n",
       "      <td>NaN</td>\n",
       "      <td>NaN</td>\n",
       "      <td>NaN</td>\n",
       "      <td>NaN</td>\n",
       "      <td>NaN</td>\n",
       "      <td>...</td>\n",
       "      <td>NaN</td>\n",
       "      <td>NaN</td>\n",
       "      <td>NaN</td>\n",
       "      <td>NaN</td>\n",
       "      <td>NaN</td>\n",
       "      <td>NaN</td>\n",
       "      <td>NaN</td>\n",
       "      <td>NaN</td>\n",
       "      <td>NaN</td>\n",
       "      <td>NaN</td>\n",
       "    </tr>\n",
       "    <tr>\n",
       "      <th>5</th>\n",
       "      <td>'10/01/21 10:12:06.909'</td>\n",
       "      <td>'CartSerialNo'</td>\n",
       "      <td>NaN</td>\n",
       "      <td>000000000500207812</td>\n",
       "      <td>NaN</td>\n",
       "      <td>NaN</td>\n",
       "      <td>NaN</td>\n",
       "      <td>NaN</td>\n",
       "      <td>NaN</td>\n",
       "      <td>NaN</td>\n",
       "      <td>...</td>\n",
       "      <td>NaN</td>\n",
       "      <td>NaN</td>\n",
       "      <td>NaN</td>\n",
       "      <td>NaN</td>\n",
       "      <td>NaN</td>\n",
       "      <td>NaN</td>\n",
       "      <td>NaN</td>\n",
       "      <td>NaN</td>\n",
       "      <td>NaN</td>\n",
       "      <td>NaN</td>\n",
       "    </tr>\n",
       "    <tr>\n",
       "      <th>6</th>\n",
       "      <td>'10/01/21 10:12:06.911'</td>\n",
       "      <td>'CartCompat'</td>\n",
       "      <td>NaN</td>\n",
       "      <td>0.7</td>\n",
       "      <td>NaN</td>\n",
       "      <td>NaN</td>\n",
       "      <td>NaN</td>\n",
       "      <td>NaN</td>\n",
       "      <td>NaN</td>\n",
       "      <td>NaN</td>\n",
       "      <td>...</td>\n",
       "      <td>NaN</td>\n",
       "      <td>NaN</td>\n",
       "      <td>NaN</td>\n",
       "      <td>NaN</td>\n",
       "      <td>NaN</td>\n",
       "      <td>NaN</td>\n",
       "      <td>NaN</td>\n",
       "      <td>NaN</td>\n",
       "      <td>NaN</td>\n",
       "      <td>NaN</td>\n",
       "    </tr>\n",
       "    <tr>\n",
       "      <th>7</th>\n",
       "      <td>'10/01/21 10:12:06.914'</td>\n",
       "      <td>NaN</td>\n",
       "      <td>'CART_TYPE_FULL'</td>\n",
       "      <td>NaN</td>\n",
       "      <td>NaN</td>\n",
       "      <td>NaN</td>\n",
       "      <td>NaN</td>\n",
       "      <td>NaN</td>\n",
       "      <td>NaN</td>\n",
       "      <td>NaN</td>\n",
       "      <td>...</td>\n",
       "      <td>NaN</td>\n",
       "      <td>NaN</td>\n",
       "      <td>NaN</td>\n",
       "      <td>NaN</td>\n",
       "      <td>NaN</td>\n",
       "      <td>NaN</td>\n",
       "      <td>NaN</td>\n",
       "      <td>NaN</td>\n",
       "      <td>NaN</td>\n",
       "      <td>NaN</td>\n",
       "    </tr>\n",
       "    <tr>\n",
       "      <th>8</th>\n",
       "      <td>'10/01/21 10:12:06.916'</td>\n",
       "      <td>NaN</td>\n",
       "      <td>'CAL_POINT_TWO'</td>\n",
       "      <td>NaN</td>\n",
       "      <td>NaN</td>\n",
       "      <td>NaN</td>\n",
       "      <td>NaN</td>\n",
       "      <td>NaN</td>\n",
       "      <td>NaN</td>\n",
       "      <td>NaN</td>\n",
       "      <td>...</td>\n",
       "      <td>NaN</td>\n",
       "      <td>NaN</td>\n",
       "      <td>NaN</td>\n",
       "      <td>NaN</td>\n",
       "      <td>NaN</td>\n",
       "      <td>NaN</td>\n",
       "      <td>NaN</td>\n",
       "      <td>NaN</td>\n",
       "      <td>NaN</td>\n",
       "      <td>NaN</td>\n",
       "    </tr>\n",
       "    <tr>\n",
       "      <th>9</th>\n",
       "      <td>'10/01/21 10:12:20.432'</td>\n",
       "      <td>'Script'</td>\n",
       "      <td>'MEAS_REP_LIMITS_PROD'</td>\n",
       "      <td>5.0000</td>\n",
       "      <td>NaN</td>\n",
       "      <td>NaN</td>\n",
       "      <td>NaN</td>\n",
       "      <td>NaN</td>\n",
       "      <td>NaN</td>\n",
       "      <td>NaN</td>\n",
       "      <td>...</td>\n",
       "      <td>NaN</td>\n",
       "      <td>NaN</td>\n",
       "      <td>NaN</td>\n",
       "      <td>NaN</td>\n",
       "      <td>NaN</td>\n",
       "      <td>NaN</td>\n",
       "      <td>NaN</td>\n",
       "      <td>NaN</td>\n",
       "      <td>NaN</td>\n",
       "      <td>NaN</td>\n",
       "    </tr>\n",
       "  </tbody>\n",
       "</table>\n",
       "<p>10 rows × 65 columns</p>\n",
       "</div>"
      ],
      "text/plain": [
       "   '10/01/21 10:12:06.896'       'CartAge'               'CalType'  \\\n",
       "0  '10/01/21 10:12:06.898'    'Instrument'                     NaN   \n",
       "1  '10/01/21 10:12:06.900'        'Script'                'WARMUP'   \n",
       "2  '10/01/21 10:12:06.903'          'FPGA'                     NaN   \n",
       "3  '10/01/21 10:12:06.905'     'GemScript'                     NaN   \n",
       "4  '10/01/21 10:12:06.907'         'LotNo'                     NaN   \n",
       "5  '10/01/21 10:12:06.909'  'CartSerialNo'                     NaN   \n",
       "6  '10/01/21 10:12:06.911'    'CartCompat'                     NaN   \n",
       "7  '10/01/21 10:12:06.914'             NaN        'CART_TYPE_FULL'   \n",
       "8  '10/01/21 10:12:06.916'             NaN         'CAL_POINT_TWO'   \n",
       "9  '10/01/21 10:12:20.432'        'Script'  'MEAS_REP_LIMITS_PROD'   \n",
       "\n",
       "                'Hct' 'Na'  'K' 'Ca' 'BUN' 'Cl' 'pO2'  ... 'waveEnd' 'mean A'  \\\n",
       "0                 NaN  NaN  NaN  NaN   NaN  NaN   NaN  ...       NaN      NaN   \n",
       "1             41.0000  NaN  NaN  NaN   NaN  NaN   NaN  ...       NaN      NaN   \n",
       "2                7.11  NaN  NaN  NaN   NaN  NaN   NaN  ...       NaN      NaN   \n",
       "3               0.904  NaN  NaN  NaN   NaN  NaN   NaN  ...       NaN      NaN   \n",
       "4             210805G  NaN  NaN  NaN   NaN  NaN   NaN  ...       NaN      NaN   \n",
       "5  000000000500207812  NaN  NaN  NaN   NaN  NaN   NaN  ...       NaN      NaN   \n",
       "6                 0.7  NaN  NaN  NaN   NaN  NaN   NaN  ...       NaN      NaN   \n",
       "7                 NaN  NaN  NaN  NaN   NaN  NaN   NaN  ...       NaN      NaN   \n",
       "8                 NaN  NaN  NaN  NaN   NaN  NaN   NaN  ...       NaN      NaN   \n",
       "9              5.0000  NaN  NaN  NaN   NaN  NaN   NaN  ...       NaN      NaN   \n",
       "\n",
       "  'mean SD' 'meanTellTale' 'maxTellTale' 'Ne585peakCPS' 'Ne585intgCPS'  \\\n",
       "0       NaN            NaN           NaN            NaN            NaN   \n",
       "1       NaN            NaN           NaN            NaN            NaN   \n",
       "2       NaN            NaN           NaN            NaN            NaN   \n",
       "3       NaN            NaN           NaN            NaN            NaN   \n",
       "4       NaN            NaN           NaN            NaN            NaN   \n",
       "5       NaN            NaN           NaN            NaN            NaN   \n",
       "6       NaN            NaN           NaN            NaN            NaN   \n",
       "7       NaN            NaN           NaN            NaN            NaN   \n",
       "8       NaN            NaN           NaN            NaN            NaN   \n",
       "9       NaN            NaN           NaN            NaN            NaN   \n",
       "\n",
       "  'f_biliFactor' 'BiliMeas'  'BiliCalc'  \n",
       "0            NaN        NaN         NaN  \n",
       "1            NaN        NaN         NaN  \n",
       "2            NaN        NaN         NaN  \n",
       "3            NaN        NaN         NaN  \n",
       "4            NaN        NaN         NaN  \n",
       "5            NaN        NaN         NaN  \n",
       "6            NaN        NaN         NaN  \n",
       "7            NaN        NaN         NaN  \n",
       "8            NaN        NaN         NaN  \n",
       "9            NaN        NaN         NaN  \n",
       "\n",
       "[10 rows x 65 columns]"
      ]
     },
     "execution_count": 4,
     "metadata": {},
     "output_type": "execute_result"
    }
   ],
   "source": [
    "sensor_file.head(10)"
   ]
  },
  {
   "cell_type": "code",
   "execution_count": 5,
   "id": "0f2dbc30",
   "metadata": {},
   "outputs": [
    {
     "name": "stdout",
     "output_type": "stream",
     "text": [
      "<class 'pandas.core.frame.DataFrame'>\n",
      "RangeIndex: 5000 entries, 0 to 4999\n",
      "Data columns (total 8 columns):\n",
      " #   Column         Non-Null Count  Dtype  \n",
      "---  ------         --------------  -----  \n",
      " 0   Date           5000 non-null   object \n",
      " 1   Time           5000 non-null   object \n",
      " 2   Event Type     5000 non-null   object \n",
      " 3   Code           5000 non-null   int64  \n",
      " 4   Subcode        2552 non-null   float64\n",
      " 5   Message        5000 non-null   object \n",
      " 6   Cartridge S/N  4972 non-null   float64\n",
      " 7   Severity       1074 non-null   float64\n",
      "dtypes: float64(3), int64(1), object(4)\n",
      "memory usage: 312.6+ KB\n"
     ]
    }
   ],
   "source": [
    "event_log.info()"
   ]
  },
  {
   "cell_type": "code",
   "execution_count": 6,
   "id": "3016b339",
   "metadata": {},
   "outputs": [],
   "source": [
    "event_log = event_log.dropna(subset=['Cartridge S/N'])"
   ]
  },
  {
   "cell_type": "code",
   "execution_count": 7,
   "id": "2f48356b",
   "metadata": {},
   "outputs": [
    {
     "name": "stdout",
     "output_type": "stream",
     "text": [
      "<class 'pandas.core.frame.DataFrame'>\n",
      "Int64Index: 4972 entries, 0 to 4999\n",
      "Data columns (total 8 columns):\n",
      " #   Column         Non-Null Count  Dtype  \n",
      "---  ------         --------------  -----  \n",
      " 0   Date           4972 non-null   object \n",
      " 1   Time           4972 non-null   object \n",
      " 2   Event Type     4972 non-null   object \n",
      " 3   Code           4972 non-null   int64  \n",
      " 4   Subcode        2546 non-null   float64\n",
      " 5   Message        4972 non-null   object \n",
      " 6   Cartridge S/N  4972 non-null   float64\n",
      " 7   Severity       1074 non-null   float64\n",
      "dtypes: float64(3), int64(1), object(4)\n",
      "memory usage: 349.6+ KB\n"
     ]
    }
   ],
   "source": [
    "event_log.info()"
   ]
  },
  {
   "cell_type": "code",
   "execution_count": 8,
   "id": "1f55cb63",
   "metadata": {},
   "outputs": [],
   "source": [
    "event_log['Cartridge S/N'] = event_log['Cartridge S/N'].astype(int)"
   ]
  },
  {
   "cell_type": "code",
   "execution_count": 9,
   "id": "efb7e9c4",
   "metadata": {},
   "outputs": [
    {
     "name": "stdout",
     "output_type": "stream",
     "text": [
      "<class 'pandas.core.frame.DataFrame'>\n",
      "Int64Index: 4972 entries, 0 to 4999\n",
      "Data columns (total 8 columns):\n",
      " #   Column         Non-Null Count  Dtype  \n",
      "---  ------         --------------  -----  \n",
      " 0   Date           4972 non-null   object \n",
      " 1   Time           4972 non-null   object \n",
      " 2   Event Type     4972 non-null   object \n",
      " 3   Code           4972 non-null   int64  \n",
      " 4   Subcode        2546 non-null   float64\n",
      " 5   Message        4972 non-null   object \n",
      " 6   Cartridge S/N  4972 non-null   int32  \n",
      " 7   Severity       1074 non-null   float64\n",
      "dtypes: float64(2), int32(1), int64(1), object(4)\n",
      "memory usage: 330.2+ KB\n"
     ]
    }
   ],
   "source": [
    "event_log.info()"
   ]
  },
  {
   "cell_type": "code",
   "execution_count": 10,
   "id": "67631772",
   "metadata": {},
   "outputs": [],
   "source": [
    "extract_CartSerialNo = sensor_file[sensor_file[\"'CartAge'\"]== \"'CartSerialNo'\"]"
   ]
  },
  {
   "cell_type": "code",
   "execution_count": 11,
   "id": "ad54a020",
   "metadata": {},
   "outputs": [],
   "source": [
    "CartSerialNo = extract_CartSerialNo[\"'Hct'\"]"
   ]
  },
  {
   "cell_type": "code",
   "execution_count": 12,
   "id": "c2c586ed",
   "metadata": {},
   "outputs": [],
   "source": [
    "CartSerialNo = int(CartSerialNo)"
   ]
  },
  {
   "cell_type": "code",
   "execution_count": 13,
   "id": "2f4cf82d",
   "metadata": {},
   "outputs": [
    {
     "data": {
      "text/plain": [
       "500207812"
      ]
     },
     "execution_count": 13,
     "metadata": {},
     "output_type": "execute_result"
    }
   ],
   "source": [
    "CartSerialNo"
   ]
  },
  {
   "cell_type": "code",
   "execution_count": 14,
   "id": "f24bc665",
   "metadata": {},
   "outputs": [],
   "source": [
    "event_log_relavant = event_log[event_log[\"Cartridge S/N\"]==CartSerialNo]"
   ]
  },
  {
   "cell_type": "code",
   "execution_count": 15,
   "id": "849d177c",
   "metadata": {},
   "outputs": [
    {
     "data": {
      "text/html": [
       "<div>\n",
       "<style scoped>\n",
       "    .dataframe tbody tr th:only-of-type {\n",
       "        vertical-align: middle;\n",
       "    }\n",
       "\n",
       "    .dataframe tbody tr th {\n",
       "        vertical-align: top;\n",
       "    }\n",
       "\n",
       "    .dataframe thead th {\n",
       "        text-align: right;\n",
       "    }\n",
       "</style>\n",
       "<table border=\"1\" class=\"dataframe\">\n",
       "  <thead>\n",
       "    <tr style=\"text-align: right;\">\n",
       "      <th></th>\n",
       "      <th>Date</th>\n",
       "      <th>Time</th>\n",
       "      <th>Event Type</th>\n",
       "      <th>Code</th>\n",
       "      <th>Subcode</th>\n",
       "      <th>Message</th>\n",
       "      <th>Cartridge S/N</th>\n",
       "      <th>Severity</th>\n",
       "    </tr>\n",
       "  </thead>\n",
       "  <tbody>\n",
       "    <tr>\n",
       "      <th>4832</th>\n",
       "      <td>2021/10/01</td>\n",
       "      <td>10:12:06</td>\n",
       "      <td>Event</td>\n",
       "      <td>4002</td>\n",
       "      <td>NaN</td>\n",
       "      <td>Cartridge inserted: 000000000500207812. SW Ver...</td>\n",
       "      <td>500207812</td>\n",
       "      <td>NaN</td>\n",
       "    </tr>\n",
       "    <tr>\n",
       "      <th>4833</th>\n",
       "      <td>2021/10/01</td>\n",
       "      <td>10:12:06</td>\n",
       "      <td>Event</td>\n",
       "      <td>9099</td>\n",
       "      <td>NaN</td>\n",
       "      <td>Warmup Started</td>\n",
       "      <td>500207812</td>\n",
       "      <td>NaN</td>\n",
       "    </tr>\n",
       "    <tr>\n",
       "      <th>4834</th>\n",
       "      <td>2021/10/01</td>\n",
       "      <td>10:15:53</td>\n",
       "      <td>Error</td>\n",
       "      <td>240</td>\n",
       "      <td>73.0</td>\n",
       "      <td>Process control solution not detected.</td>\n",
       "      <td>500207812</td>\n",
       "      <td>8.0</td>\n",
       "    </tr>\n",
       "    <tr>\n",
       "      <th>4835</th>\n",
       "      <td>2021/10/01</td>\n",
       "      <td>10:15:54</td>\n",
       "      <td>Error</td>\n",
       "      <td>240</td>\n",
       "      <td>73.0</td>\n",
       "      <td>Process control solution not detected.</td>\n",
       "      <td>500207812</td>\n",
       "      <td>8.0</td>\n",
       "    </tr>\n",
       "    <tr>\n",
       "      <th>4836</th>\n",
       "      <td>2021/10/01</td>\n",
       "      <td>10:17:23</td>\n",
       "      <td>Error</td>\n",
       "      <td>230</td>\n",
       "      <td>232.0</td>\n",
       "      <td>Temperature out of range.</td>\n",
       "      <td>500207812</td>\n",
       "      <td>8.0</td>\n",
       "    </tr>\n",
       "  </tbody>\n",
       "</table>\n",
       "</div>"
      ],
      "text/plain": [
       "            Date      Time Event Type  Code  Subcode  \\\n",
       "4832  2021/10/01  10:12:06      Event  4002      NaN   \n",
       "4833  2021/10/01  10:12:06      Event  9099      NaN   \n",
       "4834  2021/10/01  10:15:53      Error   240     73.0   \n",
       "4835  2021/10/01  10:15:54      Error   240     73.0   \n",
       "4836  2021/10/01  10:17:23      Error   230    232.0   \n",
       "\n",
       "                                                Message  Cartridge S/N  \\\n",
       "4832  Cartridge inserted: 000000000500207812. SW Ver...      500207812   \n",
       "4833                                     Warmup Started      500207812   \n",
       "4834             Process control solution not detected.      500207812   \n",
       "4835             Process control solution not detected.      500207812   \n",
       "4836                          Temperature out of range.      500207812   \n",
       "\n",
       "      Severity  \n",
       "4832       NaN  \n",
       "4833       NaN  \n",
       "4834       8.0  \n",
       "4835       8.0  \n",
       "4836       8.0  "
      ]
     },
     "execution_count": 15,
     "metadata": {},
     "output_type": "execute_result"
    }
   ],
   "source": [
    "event_log_relavant.head()"
   ]
  },
  {
   "cell_type": "code",
   "execution_count": 16,
   "id": "9efb2915",
   "metadata": {},
   "outputs": [],
   "source": [
    "messages = event_log_relavant['Message'].dropna().to_list()"
   ]
  },
  {
   "cell_type": "code",
   "execution_count": 17,
   "id": "939bb45c",
   "metadata": {},
   "outputs": [],
   "source": [
    "sensor_failure_messages = []\n",
    "\n",
    "for i in messages:\n",
    "    if 'Sensor Disabled by iQM' in i: \n",
    "        sensor_failure_messages.append(i)"
   ]
  },
  {
   "cell_type": "code",
   "execution_count": 18,
   "id": "cc300bf2",
   "metadata": {},
   "outputs": [
    {
     "data": {
      "text/plain": [
       "['Sensor Disabled by iQM2:B:LAC']"
      ]
     },
     "execution_count": 18,
     "metadata": {},
     "output_type": "execute_result"
    }
   ],
   "source": [
    "sensor_failure_messages"
   ]
  },
  {
   "cell_type": "code",
   "execution_count": 19,
   "id": "e5fc9ac1",
   "metadata": {},
   "outputs": [],
   "source": [
    "sensor_failure = dict()\n",
    "for i in sensor_failure_messages: \n",
    "    temp = i.split(':')\n",
    "    fail_type = temp[1]\n",
    "    fail_substance = temp[2].split(',')\n",
    "    sensor_failure[fail_type] = fail_substance"
   ]
  },
  {
   "cell_type": "code",
   "execution_count": 20,
   "id": "5beba9e7",
   "metadata": {},
   "outputs": [
    {
     "data": {
      "text/plain": [
       "{'B': ['LAC']}"
      ]
     },
     "execution_count": 20,
     "metadata": {},
     "output_type": "execute_result"
    }
   ],
   "source": [
    "sensor_failure"
   ]
  },
  {
   "cell_type": "code",
   "execution_count": 21,
   "id": "94c80e6c",
   "metadata": {},
   "outputs": [
    {
     "name": "stdout",
     "output_type": "stream",
     "text": [
      "'B-DRIFT'\n"
     ]
    }
   ],
   "source": [
    "cal_type = \"'\"+'B'+'-DRIFT'+\"'\"\n",
    "print(cal_type)"
   ]
  },
  {
   "cell_type": "code",
   "execution_count": 22,
   "id": "b5bb9286",
   "metadata": {},
   "outputs": [],
   "source": [
    "sensor_file_relavant = sensor_file[sensor_file[\"'CalType'\"] == cal_type]"
   ]
  },
  {
   "cell_type": "code",
   "execution_count": 23,
   "id": "2f3d79ce",
   "metadata": {},
   "outputs": [
    {
     "data": {
      "text/html": [
       "<div>\n",
       "<style scoped>\n",
       "    .dataframe tbody tr th:only-of-type {\n",
       "        vertical-align: middle;\n",
       "    }\n",
       "\n",
       "    .dataframe tbody tr th {\n",
       "        vertical-align: top;\n",
       "    }\n",
       "\n",
       "    .dataframe thead th {\n",
       "        text-align: right;\n",
       "    }\n",
       "</style>\n",
       "<table border=\"1\" class=\"dataframe\">\n",
       "  <thead>\n",
       "    <tr style=\"text-align: right;\">\n",
       "      <th></th>\n",
       "      <th>'10/01/21 10:12:06.896'</th>\n",
       "      <th>'CartAge'</th>\n",
       "      <th>'CalType'</th>\n",
       "      <th>'Hct'</th>\n",
       "      <th>'Na'</th>\n",
       "      <th>'K'</th>\n",
       "      <th>'Ca'</th>\n",
       "      <th>'BUN'</th>\n",
       "      <th>'Cl'</th>\n",
       "      <th>'pO2'</th>\n",
       "      <th>...</th>\n",
       "      <th>'waveEnd'</th>\n",
       "      <th>'mean A'</th>\n",
       "      <th>'mean SD'</th>\n",
       "      <th>'meanTellTale'</th>\n",
       "      <th>'maxTellTale'</th>\n",
       "      <th>'Ne585peakCPS'</th>\n",
       "      <th>'Ne585intgCPS'</th>\n",
       "      <th>'f_biliFactor'</th>\n",
       "      <th>'BiliMeas'</th>\n",
       "      <th>'BiliCalc'</th>\n",
       "    </tr>\n",
       "  </thead>\n",
       "  <tbody>\n",
       "    <tr>\n",
       "      <th>53</th>\n",
       "      <td>'10/01/21 10:27:42.285'</td>\n",
       "      <td>0.00</td>\n",
       "      <td>'B-DRIFT'</td>\n",
       "      <td>nan</td>\n",
       "      <td>nan</td>\n",
       "      <td>nan</td>\n",
       "      <td>nan</td>\n",
       "      <td>NaN</td>\n",
       "      <td>nan</td>\n",
       "      <td>nan</td>\n",
       "      <td>...</td>\n",
       "      <td>NaN</td>\n",
       "      <td>NaN</td>\n",
       "      <td>NaN</td>\n",
       "      <td>NaN</td>\n",
       "      <td>NaN</td>\n",
       "      <td>NaN</td>\n",
       "      <td>NaN</td>\n",
       "      <td>NaN</td>\n",
       "      <td>NaN</td>\n",
       "      <td>0.00406</td>\n",
       "    </tr>\n",
       "    <tr>\n",
       "      <th>107</th>\n",
       "      <td>'10/01/21 10:42:47.714'</td>\n",
       "      <td>0.00</td>\n",
       "      <td>'B-DRIFT'</td>\n",
       "      <td>10.12374</td>\n",
       "      <td>nan</td>\n",
       "      <td>nan</td>\n",
       "      <td>nan</td>\n",
       "      <td>NaN</td>\n",
       "      <td>nan</td>\n",
       "      <td>nan</td>\n",
       "      <td>...</td>\n",
       "      <td>NaN</td>\n",
       "      <td>NaN</td>\n",
       "      <td>NaN</td>\n",
       "      <td>NaN</td>\n",
       "      <td>NaN</td>\n",
       "      <td>NaN</td>\n",
       "      <td>NaN</td>\n",
       "      <td>NaN</td>\n",
       "      <td>NaN</td>\n",
       "      <td>-0.00142</td>\n",
       "    </tr>\n",
       "    <tr>\n",
       "      <th>130</th>\n",
       "      <td>'10/01/21 10:47:22.244'</td>\n",
       "      <td>0.00</td>\n",
       "      <td>'B-DRIFT'</td>\n",
       "      <td>0.18775</td>\n",
       "      <td>nan</td>\n",
       "      <td>nan</td>\n",
       "      <td>nan</td>\n",
       "      <td>NaN</td>\n",
       "      <td>nan</td>\n",
       "      <td>nan</td>\n",
       "      <td>...</td>\n",
       "      <td>NaN</td>\n",
       "      <td>NaN</td>\n",
       "      <td>NaN</td>\n",
       "      <td>NaN</td>\n",
       "      <td>NaN</td>\n",
       "      <td>NaN</td>\n",
       "      <td>NaN</td>\n",
       "      <td>NaN</td>\n",
       "      <td>NaN</td>\n",
       "      <td>0.00080</td>\n",
       "    </tr>\n",
       "    <tr>\n",
       "      <th>172</th>\n",
       "      <td>'10/01/21 10:49:57.420'</td>\n",
       "      <td>0.00</td>\n",
       "      <td>'B-DRIFT'</td>\n",
       "      <td>0.34751</td>\n",
       "      <td>0.48170</td>\n",
       "      <td>0.00539</td>\n",
       "      <td>-0.00031</td>\n",
       "      <td>NaN</td>\n",
       "      <td>1.11141</td>\n",
       "      <td>-3.13512</td>\n",
       "      <td>...</td>\n",
       "      <td>NaN</td>\n",
       "      <td>NaN</td>\n",
       "      <td>NaN</td>\n",
       "      <td>NaN</td>\n",
       "      <td>NaN</td>\n",
       "      <td>NaN</td>\n",
       "      <td>NaN</td>\n",
       "      <td>NaN</td>\n",
       "      <td>NaN</td>\n",
       "      <td>0.00111</td>\n",
       "    </tr>\n",
       "    <tr>\n",
       "      <th>195</th>\n",
       "      <td>'10/01/21 10:51:19.956'</td>\n",
       "      <td>0.00</td>\n",
       "      <td>'B-DRIFT'</td>\n",
       "      <td>-0.10052</td>\n",
       "      <td>2.65452</td>\n",
       "      <td>0.02115</td>\n",
       "      <td>0.00486</td>\n",
       "      <td>NaN</td>\n",
       "      <td>-0.31254</td>\n",
       "      <td>1.54989</td>\n",
       "      <td>...</td>\n",
       "      <td>NaN</td>\n",
       "      <td>NaN</td>\n",
       "      <td>NaN</td>\n",
       "      <td>NaN</td>\n",
       "      <td>NaN</td>\n",
       "      <td>NaN</td>\n",
       "      <td>NaN</td>\n",
       "      <td>NaN</td>\n",
       "      <td>NaN</td>\n",
       "      <td>0.00218</td>\n",
       "    </tr>\n",
       "  </tbody>\n",
       "</table>\n",
       "<p>5 rows × 65 columns</p>\n",
       "</div>"
      ],
      "text/plain": [
       "     '10/01/21 10:12:06.896' 'CartAge'  'CalType'     'Hct'     'Na'      'K'  \\\n",
       "53   '10/01/21 10:27:42.285'      0.00  'B-DRIFT'       nan      nan      nan   \n",
       "107  '10/01/21 10:42:47.714'      0.00  'B-DRIFT'  10.12374      nan      nan   \n",
       "130  '10/01/21 10:47:22.244'      0.00  'B-DRIFT'   0.18775      nan      nan   \n",
       "172  '10/01/21 10:49:57.420'      0.00  'B-DRIFT'   0.34751  0.48170  0.00539   \n",
       "195  '10/01/21 10:51:19.956'      0.00  'B-DRIFT'  -0.10052  2.65452  0.02115   \n",
       "\n",
       "         'Ca' 'BUN'      'Cl'     'pO2'  ... 'waveEnd' 'mean A' 'mean SD'  \\\n",
       "53        nan   NaN       nan       nan  ...       NaN      NaN       NaN   \n",
       "107       nan   NaN       nan       nan  ...       NaN      NaN       NaN   \n",
       "130       nan   NaN       nan       nan  ...       NaN      NaN       NaN   \n",
       "172  -0.00031   NaN   1.11141  -3.13512  ...       NaN      NaN       NaN   \n",
       "195   0.00486   NaN  -0.31254   1.54989  ...       NaN      NaN       NaN   \n",
       "\n",
       "    'meanTellTale' 'maxTellTale' 'Ne585peakCPS' 'Ne585intgCPS' 'f_biliFactor'  \\\n",
       "53             NaN           NaN            NaN            NaN            NaN   \n",
       "107            NaN           NaN            NaN            NaN            NaN   \n",
       "130            NaN           NaN            NaN            NaN            NaN   \n",
       "172            NaN           NaN            NaN            NaN            NaN   \n",
       "195            NaN           NaN            NaN            NaN            NaN   \n",
       "\n",
       "    'BiliMeas'  'BiliCalc'  \n",
       "53         NaN     0.00406  \n",
       "107        NaN    -0.00142  \n",
       "130        NaN     0.00080  \n",
       "172        NaN     0.00111  \n",
       "195        NaN     0.00218  \n",
       "\n",
       "[5 rows x 65 columns]"
      ]
     },
     "execution_count": 23,
     "metadata": {},
     "output_type": "execute_result"
    }
   ],
   "source": [
    "sensor_file_relavant.head()"
   ]
  },
  {
   "cell_type": "code",
   "execution_count": 24,
   "id": "eb6fff71",
   "metadata": {},
   "outputs": [],
   "source": [
    "sensor_file_relavant = sensor_file_relavant.dropna(subset=[\"'Lac'\"])"
   ]
  },
  {
   "cell_type": "code",
   "execution_count": 25,
   "id": "01890508",
   "metadata": {},
   "outputs": [],
   "source": [
    "errs = sensor_file[sensor_file[\"'CalType'\"]==\"'ERRS'\"]"
   ]
  },
  {
   "cell_type": "code",
   "execution_count": 26,
   "id": "b65babe9",
   "metadata": {},
   "outputs": [],
   "source": [
    "index = 0\n",
    "for i, j in enumerate(errs[\"'Lac'\"].to_list()): \n",
    "    if j == \"'IQMFAILED'\": \n",
    "        index = i\n",
    "        break"
   ]
  },
  {
   "cell_type": "code",
   "execution_count": 27,
   "id": "595b562e",
   "metadata": {},
   "outputs": [],
   "source": [
    "timestamp = errs.iloc[index:index+1,0:1].values[0][0]"
   ]
  },
  {
   "cell_type": "code",
   "execution_count": 28,
   "id": "c059cf0c",
   "metadata": {},
   "outputs": [
    {
     "data": {
      "text/plain": [
       "\"'10/03/21 19:16:01.102'\""
      ]
     },
     "execution_count": 28,
     "metadata": {},
     "output_type": "execute_result"
    }
   ],
   "source": [
    "timestamp"
   ]
  },
  {
   "cell_type": "code",
   "execution_count": 29,
   "id": "8ee41ba0",
   "metadata": {},
   "outputs": [],
   "source": [
    "cart_age = errs.iloc[index:index+1,1:2].values[0][0]"
   ]
  },
  {
   "cell_type": "code",
   "execution_count": 30,
   "id": "bed07790",
   "metadata": {},
   "outputs": [
    {
     "data": {
      "text/plain": [
       "'56.35'"
      ]
     },
     "execution_count": 30,
     "metadata": {},
     "output_type": "execute_result"
    }
   ],
   "source": [
    "cart_age"
   ]
  },
  {
   "cell_type": "code",
   "execution_count": 31,
   "id": "a37b1289",
   "metadata": {},
   "outputs": [],
   "source": [
    "age = sensor_file_relavant[\"'CartAge'\"]"
   ]
  },
  {
   "cell_type": "code",
   "execution_count": 32,
   "id": "606634e5",
   "metadata": {},
   "outputs": [],
   "source": [
    "sensor_data = sensor_file_relavant[\"'Lac'\"]"
   ]
  },
  {
   "cell_type": "code",
   "execution_count": 33,
   "id": "497f716e",
   "metadata": {},
   "outputs": [],
   "source": [
    "age.reset_index(drop=True,inplace=True)\n",
    "sensor_data.reset_index(drop=True, inplace=True)"
   ]
  },
  {
   "cell_type": "code",
   "execution_count": 34,
   "id": "5fe3b72e",
   "metadata": {},
   "outputs": [],
   "source": [
    "sensor_data = sensor_data.astype(np.float32)"
   ]
  },
  {
   "cell_type": "code",
   "execution_count": 35,
   "id": "2d59658b",
   "metadata": {},
   "outputs": [],
   "source": [
    "age = age.astype(np.float32)"
   ]
  },
  {
   "cell_type": "code",
   "execution_count": 39,
   "id": "128c69d9",
   "metadata": {},
   "outputs": [
    {
     "name": "stdout",
     "output_type": "stream",
     "text": [
      "Sensor Lac Failed at Calibration Type B\n",
      "Sensor Disabled time:'10/03/21 19:16:01.102'\n",
      "Sensor Disabled age: 56.35 hrs\n",
      "Sensor data maximum value 5.19407\n",
      "Sensor data minimum value -0.96118\n"
     ]
    },
    {
     "data": {
      "text/plain": [
       "<matplotlib.legend.Legend at 0x1529c6e1370>"
      ]
     },
     "execution_count": 39,
     "metadata": {},
     "output_type": "execute_result"
    },
    {
     "data": {
      "image/png": "[encoded data removed]",
      "text/plain": [
       "<Figure size 720x360 with 1 Axes>"
      ]
     },
     "metadata": {
      "needs_background": "light"
     },
     "output_type": "display_data"
    }
   ],
   "source": [
    "print(\"Sensor Lac Failed at Calibration Type B\")\n",
    "print(\"Sensor Disabled time:\"+timestamp)\n",
    "print(\"Sensor Disabled age:\",cart_age,\"hrs\")\n",
    "print(\"Sensor data maximum value\", sensor_data.max())\n",
    "print(\"Sensor data minimum value\", sensor_data.min())\n",
    "plt.figure(figsize=(10,5))\n",
    "sns.lineplot(x=age, y=sensor_data, label='Sensor Data')\n",
    "plt.axhline(0.5, c='red',label=\"Limit bound\")\n",
    "plt.axhline(-0.5, c='red')\n",
    "cart_age = np.float32(cart_age) \n",
    "plt.axvline(cart_age, c='green', label='Sensor Disabled')\n",
    "plt.text(cart_age, sensor_data.max(),'Sensor Disabled')\n",
    "plt.legend(loc=1)"
   ]
  },
  {
   "cell_type": "code",
   "execution_count": null,
   "id": "56cd51c3",
   "metadata": {},
   "outputs": [],
   "source": []
  }
 ],
 "metadata": {
  "kernelspec": {
   "display_name": "Python 3 (ipykernel)",
   "language": "python",
   "name": "python3"
  },
  "language_info": {
   "codemirror_mode": {
    "name": "ipython",
    "version": 3
   },
   "file_extension": ".py",
   "mimetype": "text/x-python",
   "name": "python",
   "nbconvert_exporter": "python",
   "pygments_lexer": "ipython3",
   "version": "3.9.7"
  }
 },
 "nbformat": 4,
 "nbformat_minor": 5
}
