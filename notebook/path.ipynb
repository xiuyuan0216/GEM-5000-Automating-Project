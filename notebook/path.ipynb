{
 "cells": [
  {
   "cell_type": "code",
   "execution_count": 1,
   "id": "7b8e6325",
   "metadata": {},
   "outputs": [],
   "source": [
    "import os\n",
    "import pandas as pd\n",
    "from pathlib import *\n",
    "a = '\\b'\n"
   ]
  },
  {
   "cell_type": "code",
   "execution_count": 13,
   "id": "10c59646",
   "metadata": {},
   "outputs": [
    {
     "name": "stdout",
     "output_type": "stream",
     "text": [
      "\\\\sysdatprod1\\Cartridge Complaint Data\\GEM5000\\16010206\\000\u0000000000500054799\n",
      "\\\\sysdatprod1\\Cartridge Complaint Data\\GEM5000\\16010206\\000000000500054799\n",
      "\\\\sysdatprod1\\Cartridge Complaint Data\\GEM5000\\16010206\\000\u0000000000500054799\n",
      "False\n"
     ]
    }
   ],
   "source": [
    "a = '\\\\sysdatprod1\\Cartridge Complaint Data\\GEM5000\\16010206\\000000000500054799'\n",
    "s = a.split('\\\\')\n",
    "path = '\\\\\\\\'+str(s[1])+'\\\\'+str(s[2])+'\\\\'+str(s[3])[0:7]+'\\\\'+str(oct(ord(str(s[3])[7:8]))[2:5])+str(s[3])[8:13]+'\\\\'+'000'+str(s[3])[13:len(s[3])+1]\n",
    "pathnew = os.path.join('\\\\\\\\', str(s[1]), str(s[2]), str(s[3][0:7]), str(oct(ord(str(s[3])[7:8]))[2:5])+str(s[3][8:13]), '000'+str(s[3][13:len(s[3])+1]))\n",
    "print(pathnew)\n",
    "b = '\\\\\\sysdatprod1\\\\Cartridge Complaint Data\\\\GEM5000\\\\16010206\\\\000000000500054799'\n",
    "print(b)\n",
    "print(path)\n",
    "print(pathnew == b)"
   ]
  },
  {
   "cell_type": "code",
   "execution_count": 12,
   "id": "e6a62584",
   "metadata": {},
   "outputs": [
    {
     "name": "stdout",
     "output_type": "stream",
     "text": [
      "\\\\sysdatprod1\\Cartridge Complaint Data\\GEM5000\\16010206\\000\u0000000000500054799\n",
      "True\n"
     ]
    },
    {
     "ename": "ValueError",
     "evalue": "scandir: embedded null character in path",
     "output_type": "error",
     "traceback": [
      "\u001b[1;31m---------------------------------------------------------------------------\u001b[0m",
      "\u001b[1;31mValueError\u001b[0m                                Traceback (most recent call last)",
      "Input \u001b[1;32mIn [12]\u001b[0m, in \u001b[0;36m<cell line: 3>\u001b[1;34m()\u001b[0m\n\u001b[0;32m      1\u001b[0m \u001b[38;5;28mprint\u001b[39m(pathnew)\n\u001b[0;32m      2\u001b[0m \u001b[38;5;28mprint\u001b[39m(os\u001b[38;5;241m.\u001b[39mpath\u001b[38;5;241m.\u001b[39mexists(b))\n\u001b[1;32m----> 3\u001b[0m \u001b[38;5;28;01mfor\u001b[39;00m root, dirs, files \u001b[38;5;129;01min\u001b[39;00m os\u001b[38;5;241m.\u001b[39mwalk(pathnew):\n\u001b[0;32m      4\u001b[0m     \u001b[38;5;28;01mif\u001b[39;00m \u001b[38;5;124m'\u001b[39m\u001b[38;5;124mSENSOR.csv\u001b[39m\u001b[38;5;124m'\u001b[39m \u001b[38;5;129;01min\u001b[39;00m files:\n\u001b[0;32m      5\u001b[0m         a \u001b[38;5;241m=\u001b[39m os\u001b[38;5;241m.\u001b[39mpath\u001b[38;5;241m.\u001b[39mjoin(root, \u001b[38;5;124m'\u001b[39m\u001b[38;5;124mSENSOR.csv\u001b[39m\u001b[38;5;124m'\u001b[39m)\n",
      "File \u001b[1;32m~\\AppData\\Local\\Programs\\Python\\Python39\\lib\\os.py:357\u001b[0m, in \u001b[0;36m_walk\u001b[1;34m(top, topdown, onerror, followlinks)\u001b[0m\n\u001b[0;32m    349\u001b[0m \u001b[38;5;66;03m# We may not have read permission for top, in which case we can't\u001b[39;00m\n\u001b[0;32m    350\u001b[0m \u001b[38;5;66;03m# get a list of the files the directory contains.  os.walk\u001b[39;00m\n\u001b[0;32m    351\u001b[0m \u001b[38;5;66;03m# always suppressed the exception then, rather than blow up for a\u001b[39;00m\n\u001b[0;32m    352\u001b[0m \u001b[38;5;66;03m# minor reason when (say) a thousand readable directories are still\u001b[39;00m\n\u001b[0;32m    353\u001b[0m \u001b[38;5;66;03m# left to visit.  That logic is copied here.\u001b[39;00m\n\u001b[0;32m    354\u001b[0m \u001b[38;5;28;01mtry\u001b[39;00m:\n\u001b[0;32m    355\u001b[0m     \u001b[38;5;66;03m# Note that scandir is global in this module due\u001b[39;00m\n\u001b[0;32m    356\u001b[0m     \u001b[38;5;66;03m# to earlier import-*.\u001b[39;00m\n\u001b[1;32m--> 357\u001b[0m     scandir_it \u001b[38;5;241m=\u001b[39m \u001b[43mscandir\u001b[49m\u001b[43m(\u001b[49m\u001b[43mtop\u001b[49m\u001b[43m)\u001b[49m\n\u001b[0;32m    358\u001b[0m \u001b[38;5;28;01mexcept\u001b[39;00m \u001b[38;5;167;01mOSError\u001b[39;00m \u001b[38;5;28;01mas\u001b[39;00m error:\n\u001b[0;32m    359\u001b[0m     \u001b[38;5;28;01mif\u001b[39;00m onerror \u001b[38;5;129;01mis\u001b[39;00m \u001b[38;5;129;01mnot\u001b[39;00m \u001b[38;5;28;01mNone\u001b[39;00m:\n",
      "\u001b[1;31mValueError\u001b[0m: scandir: embedded null character in path"
     ]
    }
   ],
   "source": [
    "print(pathnew)\n",
    "print(os.path.exists(b))\n",
    "for root, dirs, files in os.walk(pathnew):\n",
    "    if 'SENSOR.csv' in files:\n",
    "        a = os.path.join(root, 'SENSOR.csv')\n",
    "data = pd.read_csv(a)\n",
    "data.head"
   ]
  },
  {
   "cell_type": "code",
   "execution_count": 16,
   "id": "46a8c876",
   "metadata": {},
   "outputs": [
    {
     "data": {
      "text/plain": [
       "<generator object _walk at 0x0000021EE55590B0>"
      ]
     },
     "execution_count": 16,
     "metadata": {},
     "output_type": "execute_result"
    }
   ],
   "source": [
    "from tkinter import filedialog\n",
    "CopyIL = filedialog.askdirectory()\n",
    "CopyILPath = Path(CopyIL)\n",
    "os.walk(CopyILPath)"
   ]
  },
  {
   "cell_type": "code",
   "execution_count": null,
   "id": "19bb7468",
   "metadata": {},
   "outputs": [],
   "source": []
  }
 ],
 "metadata": {
  "kernelspec": {
   "display_name": "Python 3 (ipykernel)",
   "language": "python",
   "name": "python3"
  },
  "language_info": {
   "codemirror_mode": {
    "name": "ipython",
    "version": 3
   },
   "file_extension": ".py",
   "mimetype": "text/x-python",
   "name": "python",
   "nbconvert_exporter": "python",
   "pygments_lexer": "ipython3",
   "version": "3.9.7"
  }
 },
 "nbformat": 4,
 "nbformat_minor": 5
}
